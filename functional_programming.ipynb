{
  "nbformat": 4,
  "nbformat_minor": 0,
  "metadata": {
    "colab": {
      "provenance": [],
      "authorship_tag": "ABX9TyON00iHo0uvDsHRmnxXk2gR",
      "include_colab_link": true
    },
    "kernelspec": {
      "name": "python3",
      "display_name": "Python 3"
    },
    "language_info": {
      "name": "python"
    }
  },
  "cells": [
    {
      "cell_type": "markdown",
      "metadata": {
        "id": "view-in-github",
        "colab_type": "text"
      },
      "source": [
        "<a href=\"https://colab.research.google.com/github/Mohan123-MKB/Another-Demo/blob/main/functional_programming.ipynb\" target=\"_parent\"><img src=\"https://colab.research.google.com/assets/colab-badge.svg\" alt=\"Open In Colab\"/></a>"
      ]
    },
    {
      "cell_type": "code",
      "execution_count": null,
      "metadata": {
        "colab": {
          "base_uri": "https://localhost:8080/"
        },
        "id": "VihgCckZx1Av",
        "outputId": "a544f7b8-3fa7-480a-fba6-e86837ce7eb0"
      },
      "outputs": [
        {
          "output_type": "stream",
          "name": "stdout",
          "text": [
            "Hello Alice\n",
            "HELLO\n",
            "20\n",
            "[5, '-5', 5]\n",
            "100\n"
          ]
        }
      ],
      "source": [
        "# 1.First-class function:\n",
        "\n",
        "# assign function to variable\n",
        "def greet(name):\n",
        "  return f\"Hello {name}\"\n",
        "say_hello=greet\n",
        "print(say_hello(\"Alice\"))\n",
        "\n",
        "# pass function as argument\n",
        "def apply_func(func,value):\n",
        "  return func(value)\n",
        "print(apply_func(str.upper, \"hello\"))\n",
        "\n",
        "#return function from another function\n",
        "def multiplier(factor):\n",
        "  def inner(x):\n",
        "    return x*factor\n",
        "  return inner #return function from inner function\n",
        "double=multiplier(2)\n",
        "print(double(10))\n",
        "\n",
        "#store function in list\n",
        "funcs=[abs, str, len]\n",
        "print([f(\"hello\") if f==len else f(-5) for f in funcs])\n",
        "\n",
        "#store funcs in dictionary\n",
        "opers={\"square\": lambda x:x**2, \"cube\":lambda x:x**3}\n",
        "print(opers[\"square\"](10))"
      ]
    },
    {
      "cell_type": "code",
      "source": [
        "# 2. Higher oreder function\n",
        "#filter even numbers\n",
        "print(list(filter(lambda x:x % 2 == 0, range(10))))\n",
        "\n",
        "#map to square numbers\n",
        "print(list(map(lambda x:x**2, range(1,11))))\n",
        "\n",
        "#reduce to sum\n",
        "from functools import reduce\n",
        "print(reduce(lambda a,b: a+b, [1,2,3,4,5]))\n",
        "\n",
        "#custom HOF\n",
        "def compose(f,g):\n",
        "  return lambda x: f(g(x))\n",
        "add1=lambda x:x+1\n",
        "double=lambda x:x*2\n",
        "print(compose(add1,double)(5))\n",
        "\n",
        "#apply multiple transorm\n",
        "def apply_all(funcs,value): #run many functions on the same input and collect results\n",
        "  return [f(value) for f in funcs]\n",
        "\n",
        "print(apply_all([abs,lambda x:x**2],-3))"
      ],
      "metadata": {
        "colab": {
          "base_uri": "https://localhost:8080/"
        },
        "id": "SNuJLddLyGol",
        "outputId": "f0a3e686-20e9-4aa5-955a-85d06bb0a4d0"
      },
      "execution_count": null,
      "outputs": [
        {
          "output_type": "stream",
          "name": "stdout",
          "text": [
            "[0, 2, 4, 6, 8]\n",
            "[1, 4, 9, 16, 25, 36, 49, 64, 81, 100]\n",
            "15\n",
            "11\n",
            "[3, 9]\n"
          ]
        }
      ]
    },
    {
      "cell_type": "code",
      "source": [
        "#Lambda function:\n",
        "from functools import reduce\n",
        "print(list(map(str.upper, [\"hi\",\"bye\"]))) # map(function,Iterator)\n",
        "print(list(filter(lambda x:x%2==1,range(6))))\n",
        "print(reduce(lambda a,b:a*b, range(1,6)))\n",
        "print(list(map(lambda x:x**2, filter(lambda x:x%2==0, range(6)))))\n",
        "print(reduce(lambda a,b: a if a>b else b, [2,7,3,9,1]))\n",
        "print(list(map(lambda x:x*2, [1,2,3,4])))\n",
        "print(list(filter(lambda n:len(n)>3, [\"sam\",\"charlie\",\"on\",\"greek\"])))\n",
        "print(reduce(lambda a,b:a*b, [2,3,4]))\n",
        "print(list(map(lambda x:x**2, filter(lambda x:x%2==1, [2,34,24,4,323,234,129,78]))))\n",
        "print(reduce(lambda a,b: a if len(a)>len(b) else b, [\"apple\",\"banana\",\"cheery\",\"date\",\"pineapple\"]))\n",
        "print(reduce(lambda d,c:{**d,c:d.get(c,0)+1}, \"mississippi\", {}))\n",
        "print(reduce(lambda a,b: a + \" \" + b, map(str.upper, [\"hi\",\"there\",\"friend\"])))\n",
        "nums=[10,20,30,40]\n",
        "totl=reduce(lambda a,b:a+b, nums)\n",
        "print(totl/len(nums))\n",
        "\n",
        "nums=[1,2,2,3,4,4,5]\n",
        "unique=reduce(lambda accumulator,x: accumulator+[x] if x not in accumulator else accumulator, nums, [])\n",
        "# why we use reduce means reduce(function,iterable,initial) takes,\n",
        "# an accumulator is carried over each step,\n",
        "# a current value from the iterable,\n",
        "# applies the function repeatedly,\n",
        "# produces one final result,\n",
        "# we r reducing a sequence to a single result(unique list).\n",
        "print(unique)\n",
        "\n",
        "# filter-filter element (selection part)\n",
        "# map-transform each element (transformation part)\n",
        "# reduce-reduce to single element(aggregation part-count,avg,max,min,sum,multiply,combine,combine list from bigger list)\n",
        "#without reduce:\n",
        "nums=[1,2,3,4,5,2,4,6,7]\n",
        "uni=[]\n",
        "for i in nums:\n",
        "    if i not in uni:\n",
        "        uni.append(i)\n",
        "print(uni)\n",
        "#using set:\n",
        "nums=[1,22,3,4,3,22]\n",
        "uniq=list(set(nums))\n",
        "print(uniq)\n",
        "#using set(ordered):\n",
        "nums=[1,2,2,3,7,8,4,4,5]\n",
        "uniqu=list(dict.fromkeys(nums))\n",
        "print(uniqu)"
      ],
      "metadata": {
        "id": "Gta54EgEBJWR",
        "colab": {
          "base_uri": "https://localhost:8080/"
        },
        "outputId": "1e13796b-0b1d-4ef4-958f-bb96d3f56e20"
      },
      "execution_count": 1,
      "outputs": [
        {
          "output_type": "stream",
          "name": "stdout",
          "text": [
            "['HI', 'BYE']\n",
            "[1, 3, 5]\n",
            "120\n",
            "[0, 4, 16]\n",
            "9\n",
            "[2, 4, 6, 8]\n",
            "['charlie', 'greek']\n",
            "24\n",
            "[104329, 16641]\n",
            "pineapple\n",
            "{'m': 1, 'i': 4, 's': 4, 'p': 2}\n",
            "HI THERE FRIEND\n",
            "25.0\n",
            "[1, 2, 3, 4, 5]\n",
            "[1, 2, 3, 4, 5, 6, 7]\n",
            "[1, 3, 4, 22]\n",
            "[1, 2, 3, 7, 8, 4, 5]\n"
          ]
        }
      ]
    },
    {
      "cell_type": "code",
      "source": [
        "#List Comprehensions:\n",
        "# [expression for item in iterable if condition]=expression is what to do with each item,for item in iterable is loop through data,if condition is filter items.\n",
        "# compact way to create lists,cleaner than loops,transforming filtering lists.\n",
        "#Tricks: 1 loop:[expr for x in iterable], with filter:[expr for x in iterable if condition], nested loop:[expr for x in list1 for y in list2]\n",
        "print([x**2 for x in range(5)]) #square number\n",
        "print([x for x in range(10) if x%2==0]) #even number\n",
        "print([ (x,y) for x in [1,2] for y in [3,4] ]) #nested\n",
        "print([\"even\" if x%2==0 else \"odd\" for x in range(5)]) # with condition\n",
        "matrix=[[1,2],[3,4]] # flatten matrix\n",
        "print([num for row in matrix for num in row])\n",
        "print({x:x**2 for x in [1,2,3]}) #dict comprehension\n",
        "print({x**2 for x in nums}) #set comprehension"
      ],
      "metadata": {
        "colab": {
          "base_uri": "https://localhost:8080/"
        },
        "id": "I8qd7HsIHAcy",
        "outputId": "9e7d7ab3-df18-45d3-8e24-31e57e35d6e0"
      },
      "execution_count": 2,
      "outputs": [
        {
          "output_type": "stream",
          "name": "stdout",
          "text": [
            "[0, 1, 4, 9, 16]\n",
            "[0, 2, 4, 6, 8]\n",
            "[(1, 3), (1, 4), (2, 3), (2, 4)]\n",
            "['even', 'odd', 'even', 'odd', 'even']\n",
            "[1, 2, 3, 4]\n",
            "{1: 1, 2: 4, 3: 9}\n",
            "{64, 1, 4, 9, 16, 49, 25}\n"
          ]
        }
      ]
    },
    {
      "cell_type": "code",
      "source": [
        "\n",
        "#pure functions and immutability:\n",
        "# no side effects,same inout and same output\n",
        "# predictable and testable\n",
        "# any critical data logic\n",
        "\n",
        "#pure add\n",
        "def add(a,b):\n",
        "    return a+b\n",
        "print(add(2,3))\n",
        "\n",
        "#pure reverse\n",
        "def rev(s):\n",
        "    return s[::-1]\n",
        "print(rev(\"hello\"))\n",
        "\n",
        "#impure list\n",
        "nums=[1,2,3,4]\n",
        "def impure_append(n):\n",
        "    nums.append(n)\n",
        "impure_append(5)\n",
        "print(nums)\n",
        "\n",
        "#pure alternative\n",
        "def pure_append_alternative(lst,n):\n",
        "    return lst+[n]\n",
        "print(pure_append_alternative([1,2,3,4,5],7))\n",
        "\n",
        "#tuple(immuatable) not valid impure\n",
        "def safe_update(t,val):\n",
        "    return t+(val,)\n",
        "print(safe_update((1,2),3))"
      ],
      "metadata": {
        "colab": {
          "base_uri": "https://localhost:8080/"
        },
        "id": "_P7OSZljHFRC",
        "outputId": "f6edf3ec-4106-4f1f-cd0b-c8a8e224009d"
      },
      "execution_count": 3,
      "outputs": [
        {
          "output_type": "stream",
          "name": "stdout",
          "text": [
            "5\n",
            "olleh\n",
            "[1, 2, 3, 4, 5]\n",
            "[1, 2, 3, 4, 5, 7]\n",
            "(1, 2, 3)\n"
          ]
        }
      ]
    }
  ]
}
