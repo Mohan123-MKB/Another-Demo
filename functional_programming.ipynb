{
  "nbformat": 4,
  "nbformat_minor": 0,
  "metadata": {
    "colab": {
      "provenance": [],
      "authorship_tag": "ABX9TyP1xmwYfbIxJR6qojrh4v/N",
      "include_colab_link": true
    },
    "kernelspec": {
      "name": "python3",
      "display_name": "Python 3"
    },
    "language_info": {
      "name": "python"
    }
  },
  "cells": [
    {
      "cell_type": "markdown",
      "metadata": {
        "id": "view-in-github",
        "colab_type": "text"
      },
      "source": [
        "<a href=\"https://colab.research.google.com/github/Mohan123-MKB/Another-Demo/blob/main/functional_programming.ipynb\" target=\"_parent\"><img src=\"https://colab.research.google.com/assets/colab-badge.svg\" alt=\"Open In Colab\"/></a>"
      ]
    },
    {
      "cell_type": "code",
      "execution_count": 2,
      "metadata": {
        "colab": {
          "base_uri": "https://localhost:8080/"
        },
        "id": "VihgCckZx1Av",
        "outputId": "a544f7b8-3fa7-480a-fba6-e86837ce7eb0"
      },
      "outputs": [
        {
          "output_type": "stream",
          "name": "stdout",
          "text": [
            "Hello Alice\n",
            "HELLO\n",
            "20\n",
            "[5, '-5', 5]\n",
            "100\n"
          ]
        }
      ],
      "source": [
        "# 1.First-class function:\n",
        "\n",
        "# assign function to variable\n",
        "def greet(name):\n",
        "  return f\"Hello {name}\"\n",
        "say_hello=greet\n",
        "print(say_hello(\"Alice\"))\n",
        "\n",
        "# pass function as argument\n",
        "def apply_func(func,value):\n",
        "  return func(value)\n",
        "print(apply_func(str.upper, \"hello\"))\n",
        "\n",
        "#return function from another function\n",
        "def multiplier(factor):\n",
        "  def inner(x):\n",
        "    return x*factor\n",
        "  return inner #return function from inner function\n",
        "double=multiplier(2)\n",
        "print(double(10))\n",
        "\n",
        "#store function in list\n",
        "funcs=[abs, str, len]\n",
        "print([f(\"hello\") if f==len else f(-5) for f in funcs])\n",
        "\n",
        "#store funcs in dictionary\n",
        "opers={\"square\": lambda x:x**2, \"cube\":lambda x:x**3}\n",
        "print(opers[\"square\"](10))"
      ]
    },
    {
      "cell_type": "code",
      "source": [],
      "metadata": {
        "id": "SNuJLddLyGol"
      },
      "execution_count": null,
      "outputs": []
    }
  ]
}